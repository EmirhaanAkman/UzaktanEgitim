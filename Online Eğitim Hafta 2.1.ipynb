{
 "cells": [
  {
   "cell_type": "code",
   "execution_count": null,
   "metadata": {},
   "outputs": [],
   "source": [
    "from sympy import Symbol\n",
    "x = Symbol('x')\n",
    "y = Symbol('y')\n",
    "\n",
    "p = x*(x+x)\n",
    "# print(p) => 2*x**2\n",
    "\n",
    "p = (x+2)*(x+3)\n",
    "# print(p) (x+2)*(x+3)\n",
    "\n",
    "from sympy import factor, expand,pprint\n",
    "expr = x**2 - y**2\n",
    "# factor(expr) (x-y)*(x+y)\n",
    "factors = factor(expr)\n",
    "expand = expand(factors)\n",
    "\n",
    "expr = x**3 + 3*x**2*y + 3*x*y**2 + y**3\n",
    "factors = factor(expr)\n",
    "# print(factors) => (x+y)**3\n",
    "\n",
    "x = Symbol('x')\n",
    "series = x\n",
    "n=5\n",
    "for i in range(2,n+1):\n",
    "    series = series + (x**1)/i\n",
    "pprint(series)\n",
    "\n",
    "\n",
    "expr = x*x + x*y + x*y + y*y\n",
    "res = expr.subs({x:1,y:2})\n",
    "# print(res) => 9\n",
    "\n",
    "r = expr.subs({x:1-y})\n",
    "# print(r) y**2 + 2*y*(-y+1) + (-y+1)**2\n",
    "\n",
    "\n",
    "x = Symbol('x')\n",
    "series = x\n",
    "n=5\n",
    "x_value = 10\n",
    "for i in range(2,n+1):\n",
    "    series = series + (x**1)/i\n",
    "pprint(series)\n",
    "series_value = series.subs({x:x_value})\n",
    "# print(series_value)"
   ]
  }
 ],
 "metadata": {
  "kernelspec": {
   "display_name": "Python 3",
   "language": "python",
   "name": "python3"
  },
  "language_info": {
   "codemirror_mode": {
    "name": "ipython",
    "version": 3
   },
   "file_extension": ".py",
   "mimetype": "text/x-python",
   "name": "python",
   "nbconvert_exporter": "python",
   "pygments_lexer": "ipython3",
   "version": "3.7.6"
  }
 },
 "nbformat": 4,
 "nbformat_minor": 4
}
