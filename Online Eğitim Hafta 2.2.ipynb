{
 "cells": [
  {
   "cell_type": "code",
   "execution_count": null,
   "metadata": {},
   "outputs": [],
   "source": [
    "import sympy as sym\n",
    "from sympy import Symbol\n",
    "from sympy import pprint\n",
    "import sympy.plotting as syp\n",
    "%matplotlib inline\n",
    "import matplotlib.pyplot as plt\n",
    "\n",
    "sigma = Symbol('sigma')\n",
    "x = Symbol('x')\n",
    "mu = Symbol('mu')\n",
    "sym.sqrt(2*sym.pi*sigma)\n",
    "\n",
    "part_1 = 1/(sym.sqrt(2*sym.pi*sigma**2))\n",
    "part_2 = sym.exp(-1*((x-mu)**2)/(2*sigma**2))\n",
    "\n",
    "my_gauss_function = part_1 * part_2\n",
    "# pprint(my_gauss_function)\n",
    "\n",
    "# Fonksiyonun grafiği için\n",
    "syp.plot(my_f.subs({mu:1,sigma:30}),(x,-10,10),title='gauss')\n",
    "\n",
    "\n",
    "# fonksiyonun döngü ile yapımı\n",
    "x_values = []\n",
    "y_values = []\n",
    "for value in range(-100,100):\n",
    "    y =my_f.subs({mu:10,sigma:30,x:value})\n",
    "    y_values.append(y)\n",
    "    x_values.append(value)\n",
    "    print(x,y)\n",
    "\n",
    "plt.plot(x_values,y_values)"
   ]
  }
 ],
 "metadata": {
  "kernelspec": {
   "display_name": "Python 3",
   "language": "python",
   "name": "python3"
  },
  "language_info": {
   "codemirror_mode": {
    "name": "ipython",
    "version": 3
   },
   "file_extension": ".py",
   "mimetype": "text/x-python",
   "name": "python",
   "nbconvert_exporter": "python",
   "pygments_lexer": "ipython3",
   "version": "3.7.6"
  }
 },
 "nbformat": 4,
 "nbformat_minor": 4
}
