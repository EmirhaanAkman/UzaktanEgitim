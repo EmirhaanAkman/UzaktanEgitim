{
 "cells": [
  {
   "cell_type": "code",
   "execution_count": 2,
   "metadata": {},
   "outputs": [],
   "source": [
    "def min_heapify(array,i):\n",
    "    left = 2 * i + 1\n",
    "    right = 2 * i + 2\n",
    "    lenght = len(array) - 1\n",
    "    smallest = i\n",
    "    if left <= lenght and array[i] > array [left]:\n",
    "        smallest = left\n",
    "    if right <= lenght and array[smallest] > array[right]:\n",
    "        smallest = right\n",
    "    if smallest !=i:\n",
    "        array[i],array[smallest] = array[smallest],array[i]\n",
    "        min_heapify(array,smallest)"
   ]
  },
  {
   "cell_type": "code",
   "execution_count": 3,
   "metadata": {},
   "outputs": [],
   "source": [
    "def build_min_heap(array):\n",
    "    for i in reversed(range(len(array)//2)):\n",
    "        min_heapify(array,i)"
   ]
  },
  {
   "cell_type": "code",
   "execution_count": 4,
   "metadata": {},
   "outputs": [],
   "source": [
    "def heapsort(array):\n",
    "    array = array.copy()\n",
    "    build_min_heap(array)\n",
    "    sorted_array = []\n",
    "    for _ in range(len(array)):\n",
    "        array[0],array[-1] = array[-1],array[0]\n",
    "        sorted_array.append(array.pop()) # pop() is an inbuilt function in Python that removes and returns last value from the list or the given index value\n",
    "        min_heapify(array,0)\n",
    "    return sorted_array"
   ]
  },
  {
   "cell_type": "code",
   "execution_count": 5,
   "metadata": {},
   "outputs": [],
   "source": [
    "def insertItemToHeap(array,item):\n",
    "    array_copy = array.copy()\n",
    "    lastIndex = len(array)\n",
    "    array_copy.insert(lastIndex,item)\n",
    "    return heapsort(array_copy)"
   ]
  },
  {
   "cell_type": "code",
   "execution_count": 6,
   "metadata": {},
   "outputs": [
    {
     "data": {
      "text/plain": [
       "[1, 2, 4, 5, 5, 7, 7, 8, 9, 11, 16, 88]"
      ]
     },
     "execution_count": 6,
     "metadata": {},
     "output_type": "execute_result"
    }
   ],
   "source": [
    "arrayOne = [1,5,7,9,11,16,7,8,4,2,88]\n",
    "result_array = insertItemToHeap(arrayOne,5)\n",
    "result_array"
   ]
  },
  {
   "cell_type": "code",
   "execution_count": 7,
   "metadata": {},
   "outputs": [],
   "source": [
    "def removeItemFrom(array):\n",
    "    array_copy = array.copy()\n",
    "    array_copy.pop(0)\n",
    "    return heapsort(array_copy)"
   ]
  },
  {
   "cell_type": "code",
   "execution_count": 8,
   "metadata": {},
   "outputs": [
    {
     "data": {
      "text/plain": [
       "[4, 5, 7, 7, 8, 9, 11, 16, 88]"
      ]
     },
     "execution_count": 8,
     "metadata": {},
     "output_type": "execute_result"
    }
   ],
   "source": [
    "arrayTwo = [1,5,7,9,11,16,7,8,4,2,88]\n",
    "result_array_2 = heapsort(arrayTwo)\n",
    "lastResult = removeItemFrom(result_array_2)\n",
    "lastResult\n",
    "sonDeneme = removeItemFrom(lastResult)\n",
    "sonDeneme"
   ]
  },
  {
   "cell_type": "code",
   "execution_count": null,
   "metadata": {},
   "outputs": [],
   "source": []
  }
 ],
 "metadata": {
  "kernelspec": {
   "display_name": "Python 3",
   "language": "python",
   "name": "python3"
  },
  "language_info": {
   "codemirror_mode": {
    "name": "ipython",
    "version": 3
   },
   "file_extension": ".py",
   "mimetype": "text/x-python",
   "name": "python",
   "nbconvert_exporter": "python",
   "pygments_lexer": "ipython3",
   "version": "3.7.6"
  }
 },
 "nbformat": 4,
 "nbformat_minor": 4
}
